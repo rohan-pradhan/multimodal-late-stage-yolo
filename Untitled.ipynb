{
 "cells": [
  {
   "cell_type": "code",
   "execution_count": 1,
   "metadata": {},
   "outputs": [],
   "source": [
    "import cv2 \n",
    "import os "
   ]
  },
  {
   "cell_type": "code",
   "execution_count": 4,
   "metadata": {},
   "outputs": [],
   "source": [
    "thermal_dir = \"D:/FLIR/train/thermal_8_bit_adjusted\"\n",
    "vision_dir = \"D:/FLIR/train/RGB_adjusted\"\n",
    "labels_dir = \"D:/FLIR/train/yolo_labels\"\n",
    "output_dir =  \"D:/FLIR/train/plotted\"\n",
    "\n",
    "os.mkdir(output_dir)\n",
    "\n",
    "img_size = (640, 512)\n",
    "\n",
    "def convertxywh2xyxy(x_center, y_center, w, h):\n",
    "\n",
    "    x1 = (x_center - w/2.0)*img_size[0]\n",
    "    y1 = (y_center - h/2.0)*img_size[1]\n",
    "    x2 = (x_center + w/2.0)*img_size[0]\n",
    "    y2 = (y_center + h/2.0)*img_size[1]\n",
    "    return x1, y1, x2, y2\n",
    "\n",
    "def plot_box(img, annotation):\n",
    "    category_id = annotation[0]\n",
    "    color = (255, 0, 0) if category_id == 0 else (0, 255, 0)\n",
    "    x_center = float(annotation[1])\n",
    "    y_center = float(annotation[2])\n",
    "    w = float(annotation[3])\n",
    "    h = float(annotation[4])\n",
    "    x1, y1, x2, y2 = convertxywh2xyxy(x_center, y_center, w, h)\n",
    "    c1,c2 = (int(x1), int(y1)), (int(x2), int(y2))\n",
    "    cv2.rectangle(img, c1, c2, color)\n",
    "    return img\n",
    "\n",
    "def get_annotations_from_file(label_file):\n",
    "    raw_lines = []\n",
    "    with open(label_file) as f:\n",
    "        for line in f:\n",
    "            raw_lines.append(line)\n",
    "    lines = []\n",
    "    for line in raw_lines:\n",
    "        line_to_append = line.split(\" \")\n",
    "        lines.append(line_to_append)\n",
    "    return lines\n",
    "\n",
    "def get_img_paths(label_file):\n",
    "    rgb_file = label_file.replace(\".txt\", \".jpg\")\n",
    "    thermal_file = label_file.replace(\".txt\", \".jpeg\")\n",
    "    return rgb_file, thermal_file\n",
    "\n",
    "def plot_on_imgs(labels_dir, rgb_input, thermal_input, output):\n",
    "    for label_file in os.listdir(labels_dir):\n",
    "        label_path = os.path.join(labels_dir, label_file)\n",
    "        labels = get_annotations_from_file(label_path)\n",
    "        rgb_file, thermal_file = get_img_paths(label_file)\n",
    "        rgb_path = os.path.join(rgb_input, rgb_file)\n",
    "        thermal_path = os.path.join(thermal_input, thermal_file)\n",
    "        rgb_img = cv2.imread(rgb_path)\n",
    "        thermal_img = cv2.imread(thermal_path)\n",
    "        for label in labels:\n",
    "            rgb_img = plot_box(rgb_img, label)\n",
    "            thermal_img = plot_box(thermal_img, label)\n",
    "        img = cv2.hconcat([rgb_img, thermal_img])\n",
    "        save_path = os.path.join(output, rgb_file)\n",
    "        cv2.imwrite(save_path, img)\n",
    "        \n",
    "plot_on_imgs(labels_dir, vision_dir, thermal_dir, output_dir)\n",
    "    \n",
    "   "
   ]
  }
 ],
 "metadata": {
  "kernelspec": {
   "display_name": "Python 3",
   "language": "python",
   "name": "python3"
  },
  "language_info": {
   "codemirror_mode": {
    "name": "ipython",
    "version": 3
   },
   "file_extension": ".py",
   "mimetype": "text/x-python",
   "name": "python",
   "nbconvert_exporter": "python",
   "pygments_lexer": "ipython3",
   "version": "3.7.6"
  }
 },
 "nbformat": 4,
 "nbformat_minor": 4
}
