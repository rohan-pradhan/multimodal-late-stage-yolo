{
 "cells": [
  {
   "cell_type": "code",
   "execution_count": 1,
   "metadata": {},
   "outputs": [],
   "source": [
    "import os \n"
   ]
  },
  {
   "cell_type": "markdown",
   "metadata": {},
   "source": [
    "## Generate Text files for dataset "
   ]
  },
  {
   "cell_type": "markdown",
   "metadata": {},
   "source": [
    "### Generate Train Text files \n"
   ]
  },
  {
   "cell_type": "code",
   "execution_count": 4,
   "metadata": {},
   "outputs": [
    {
     "name": "stdout",
     "output_type": "stream",
     "text": [
      "4870\n"
     ]
    }
   ],
   "source": [
    "input_dir = \"D:/FLIR/train/RGB_adjusted\"\n",
    "output_dir = \"D:/FLIR/data\"\n",
    "text_file = \"train.txt\"\n",
    "\n",
    "output_file = os.path.join(output_dir, text_file)\n",
    "counter = 0\n",
    "with open(output_file, 'a+') as w: \n",
    "    for f in os.listdir(input_dir):\n",
    "        full_path = os.path.join(input_dir, f).replace(\"\\\\\",\"/\")\n",
    "        to_write = [full_path, \"\\n\"]\n",
    "        str_to_write = \" \".join(to_write)\n",
    "        w.write(str_to_write)\n",
    "        counter+=1\n",
    "print (counter)"
   ]
  },
  {
   "cell_type": "markdown",
   "metadata": {},
   "source": [
    "### Generate Test Text files "
   ]
  },
  {
   "cell_type": "code",
   "execution_count": 5,
   "metadata": {},
   "outputs": [
    {
     "name": "stdout",
     "output_type": "stream",
     "text": [
      "1257\n"
     ]
    }
   ],
   "source": [
    "input_dir = \"D:/FLIR/val/RGB_adjusted\"\n",
    "output_dir = \"D:/FLIR/data\"\n",
    "text_file = \"val.txt\"\n",
    "\n",
    "output_file = os.path.join(output_dir, text_file)\n",
    "counter = 0\n",
    "with open(output_file, 'a+') as w: \n",
    "    for f in os.listdir(input_dir):\n",
    "        full_path = os.path.join(input_dir, f).replace(\"\\\\\",\"/\")\n",
    "        to_write = [full_path, \"\\n\"]\n",
    "        str_to_write = \" \".join(to_write)\n",
    "        w.write(str_to_write)\n",
    "        counter+=1\n",
    "print (counter)"
   ]
  }
 ],
 "metadata": {
  "kernelspec": {
   "display_name": "Python 3",
   "language": "python",
   "name": "python3"
  },
  "language_info": {
   "codemirror_mode": {
    "name": "ipython",
    "version": 3
   },
   "file_extension": ".py",
   "mimetype": "text/x-python",
   "name": "python",
   "nbconvert_exporter": "python",
   "pygments_lexer": "ipython3",
   "version": "3.7.6"
  }
 },
 "nbformat": 4,
 "nbformat_minor": 4
}
