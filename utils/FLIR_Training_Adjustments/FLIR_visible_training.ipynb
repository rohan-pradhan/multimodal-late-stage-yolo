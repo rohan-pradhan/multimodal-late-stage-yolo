{
 "cells": [
  {
   "cell_type": "code",
   "execution_count": 1,
   "metadata": {},
   "outputs": [],
   "source": [
    "import os \n"
   ]
  },
  {
   "cell_type": "markdown",
   "metadata": {},
   "source": [
    "## Generate annotated images"
   ]
  },
  {
   "cell_type": "code",
   "execution_count": 6,
   "metadata": {},
   "outputs": [
    {
     "name": "stdout",
     "output_type": "stream",
     "text": [
      "['1 0.50234375 0.4609375 0.0421875 0.04296875', '1 0.63046875 0.4677734375 0.1109375 0.091796875', '1 0.73515625 0.4619140625 0.0578125 0.091796875', '1 0.24296875 0.466796875 0.0578125 0.0546875', '1 0.45 0.4541015625 0.03125 0.029296875', '0 0.378125 0.4619140625 0.021875 0.091796875', '0 0.36484375 0.4619140625 0.0203125 0.087890625', '0 0.0140625 0.5048828125 0.028125 0.162109375']\n"
     ]
    }
   ],
   "source": [
    "with open(\"D:/FLIR/val/yolo_labels/8877.txt\") as f:\n",
    "    content = f.readlines()\n",
    "content = [x.strip() for x in content]\n",
    "\n",
    "print (content)"
   ]
  },
  {
   "cell_type": "code",
   "execution_count": 41,
   "metadata": {},
   "outputs": [],
   "source": [
    "import cv2 \n",
    "\n",
    "visible_input_dir = \"D:/FLIR/val/RGB_adjusted\"\n",
    "lwir_input_dir = \"D:/FLIR/val/thermal_8_bit_adjusted\"\n",
    "label_input_dir = \"D:/FLIR/val/yolo_labels\"\n",
    "output_dir = \"D:/FLIR/val/annotated_2\"\n",
    "\n",
    "for f in os.listdir(visible_input_dir):\n",
    "    visible_path = os.path.join(visible_input_dir, f)\n",
    "    f_lwir = f.replace(\".jpg\", \".jpeg\")\n",
    "    number = int(f_lwir.split(\".\")[0]) + 1\n",
    "    #if number > 9999:\n",
    "     #   f_lwir = \"FLIR_\" + str(number) + \".jpeg\"\n",
    "    #else: \n",
    "    #    f_lwir = \"FLIR_0\" + str(number) + \".jpeg\"\n",
    "        \n",
    "    lwir_path = os.path.join(lwir_input_dir, f_lwir)\n",
    "    visible_img = cv2.imread(visible_path)\n",
    "    lwir_img = cv2.imread(lwir_path)\n",
    "    f_label = f.replace(\".jpg\", \".txt\")\n",
    "    label_path = os.path.join(label_input_dir, f_label)\n",
    "    if os.path.isfile(label_path):\n",
    "        with open(label_path) as l: \n",
    "            content = l.readlines()\n",
    "        content = [x.strip() for x in content]\n",
    "        for label in content: \n",
    "            cords = label.split(\" \")\n",
    "            x0 = float(cords[1]) - (float(cords[3])/2)\n",
    "            y0 = float(cords[2]) - (float(cords[4])/2)\n",
    "            x1 = float(cords[1]) + (float(cords[3])/2)\n",
    "            y1 = float(cords[2]) + (float(cords[4])/2)\n",
    "            x0 *= 640\n",
    "            y0 *= 512 \n",
    "            x1 *= 640\n",
    "            y1 *= 512\n",
    "            x0 = int(x0)\n",
    "            y0 = int(y0)\n",
    "            x1 = int(x1)\n",
    "            y1 = int(y1)\n",
    "            cv2.rectangle(visible_img, (x0,y0), (x1, y1),(255,0,0), 3)\n",
    "            cv2.rectangle(lwir_img, (x0,y0), (x1,y1), (0,255,0), 3)\n",
    "    final_img = cv2.hconcat([visible_img, lwir_img])\n",
    "    final_path = os.path.join(output_dir, f)\n",
    "    cv2.imwrite(final_path, final_img)\n",
    "\n",
    "    \n",
    "    \n",
    "    \n"
   ]
  },
  {
   "cell_type": "code",
   "execution_count": 26,
   "metadata": {},
   "outputs": [
    {
     "name": "stdout",
     "output_type": "stream",
     "text": [
      "['1659', '1660', '1673', '1674', '1678', '1914', '2208', '2900', '2901', '2902', '2903', '2904', '2905', '2906', '2907', '2908', '2909', '2910', '2911', '2912', '2913', '2914', '2915', '2916', '2917', '2918', '2919', '2920', '2921', '2922', '2923', '3273', '3274', '3275', '3281', '3298', '3669', '3670', '3671', '3672', '3673', '3674', '3675', '3679', '3680', '3681', '3682', '3683', '3684', '3685', '3686', '3687', '3688', '3689', '3692', '3693', '3694', '3695', '3696', '3697', '3698', '3699', '3700', '3701', '3702', '3703', '3704', '3705', '3706', '3707', '3708', '3709', '3710', '3711', '3712', '3713', '3714', '3715', '3716', '3717', '3718', '3719', '3746', '3763', '3831', '3832', '3833', '3834', '3835', '3836', '3837', '3838', '3839', '3840', '3841', '3842', '3843', '3844', '3845', '3846', '3847', '3848', '3849', '3850', '3851', '3852', '3853', '3854', '3855', '3856', '3857', '3858', '3859', '3860', '3861', '3862', '3863', '3864', '3865', '3866', '3867', '3868', '3869', '3870', '3871', '3872', '3873', '3874', '3875', '3876', '3877', '3878', '3879', '3880', '3881', '3882', '3883', '3884', '3885', '3886', '3887', '3888', '3889', '3890', '3891', '3892', '3893', '3894', '3895', '3896', '3897', '3982', '3983', '3984', '3985', '3992', '3993', '3994', '3995', '3996', '3997', '3998', '3999', '4000', '4001', '4002', '4006', '4017', '4018', '4019', '4020', '4021', '4022', '4023', '4029', '4030', '4031', '4040', '4047', '4080', '4634', '4635', '4636', '4637', '4638', '4639', '4640', '4671', '4711', '4807', '4834', '4835', '4836', '4837', '4846', '4979', '5362', '5363', '5364', '5365', '5366', '5367', '5368', '5369', '5370', '5371', '5372', '5373', '5374', '5375', '5376', '5377', '5378', '5379', '5399', '5400', '5401', '5402', '5403', '5404', '5405', '5406', '5407']\n",
      "223\n"
     ]
    }
   ],
   "source": [
    "train_to_remove = [\n",
    "    1659,\n",
    "    1660,\n",
    "    1673,\n",
    "    1674,\n",
    "    1678,\n",
    "    1914,\n",
    "    2208,\n",
    "    3281,\n",
    "    3298,\n",
    "    3746,\n",
    "    3763,\n",
    "    4671,\n",
    "    4711,\n",
    "    4047,\n",
    "    4040,\n",
    "    4006,\n",
    "    4080,\n",
    "    4846,\n",
    "    4807,\n",
    "    4979,\n",
    "       \n",
    "]\n",
    "\n",
    "list_2 = list(range(2900,2924))\n",
    "list_3 = list(range(3273, 3276))\n",
    "list_4 = list(range(3669, 3676))\n",
    "list_5 = list(range(3679, 3690))\n",
    "list_6 = list(range(3692, 3720))\n",
    "list_7 = list(range(3831, 3898))\n",
    "list_8 = list(range(3982,3986))\n",
    "list_9 = list(range(3992, 4003))\n",
    "list_10 = list(range(4017, 4024))\n",
    "list_11 = list(range(4029, 4032))\n",
    "list_12 = list(range(4634, 4641))\n",
    "list_13 = list(range(4834, 4838))\n",
    "list_14 = list(range(5362, 5380))\n",
    "list_15 = list(range(5399, 5408))\n",
    "\n",
    "train_to_remove += list_2\n",
    "train_to_remove += list_3\n",
    "train_to_remove += list_4\n",
    "train_to_remove += list_5\n",
    "train_to_remove += list_6\n",
    "train_to_remove += list_7\n",
    "train_to_remove += list_8\n",
    "train_to_remove += list_9\n",
    "train_to_remove += list_10\n",
    "train_to_remove += list_11\n",
    "train_to_remove += list_12\n",
    "train_to_remove += list_13\n",
    "train_to_remove += list_14\n",
    "train_to_remove += list_15\n",
    "\n",
    "train_to_remove.sort()\n",
    "\n",
    "train_to_remove = [str(x) for x in train_to_remove]\n",
    "print (train_to_remove)\n",
    "print (len(train_to_remove))\n",
    "\n"
   ]
  },
  {
   "cell_type": "code",
   "execution_count": 29,
   "metadata": {},
   "outputs": [
    {
     "name": "stdout",
     "output_type": "stream",
     "text": [
      "['1659.jpeg', '1660.jpeg', '1673.jpeg', '1674.jpeg', '1678.jpeg', '1914.jpeg', '2208.jpeg', '2900.jpeg', '2901.jpeg', '2902.jpeg', '2903.jpeg', '2904.jpeg', '2905.jpeg', '2906.jpeg', '2907.jpeg', '2908.jpeg', '2909.jpeg', '2910.jpeg', '2911.jpeg', '2912.jpeg', '2913.jpeg', '2914.jpeg', '2915.jpeg', '2916.jpeg', '2917.jpeg', '2918.jpeg', '2919.jpeg', '2920.jpeg', '2921.jpeg', '2922.jpeg', '2923.jpeg', '3273.jpeg', '3274.jpeg', '3275.jpeg', '3281.jpeg', '3298.jpeg', '3669.jpeg', '3670.jpeg', '3671.jpeg', '3672.jpeg', '3673.jpeg', '3674.jpeg', '3675.jpeg', '3679.jpeg', '3680.jpeg', '3681.jpeg', '3682.jpeg', '3683.jpeg', '3684.jpeg', '3685.jpeg', '3686.jpeg', '3687.jpeg', '3688.jpeg', '3689.jpeg', '3692.jpeg', '3693.jpeg', '3694.jpeg', '3695.jpeg', '3696.jpeg', '3697.jpeg', '3698.jpeg', '3699.jpeg', '3700.jpeg', '3701.jpeg', '3702.jpeg', '3703.jpeg', '3704.jpeg', '3705.jpeg', '3706.jpeg', '3707.jpeg', '3708.jpeg', '3709.jpeg', '3710.jpeg', '3711.jpeg', '3712.jpeg', '3713.jpeg', '3714.jpeg', '3715.jpeg', '3716.jpeg', '3717.jpeg', '3718.jpeg', '3719.jpeg', '3746.jpeg', '3763.jpeg', '3831.jpeg', '3832.jpeg', '3833.jpeg', '3834.jpeg', '3835.jpeg', '3836.jpeg', '3837.jpeg', '3838.jpeg', '3839.jpeg', '3840.jpeg', '3841.jpeg', '3842.jpeg', '3843.jpeg', '3844.jpeg', '3845.jpeg', '3846.jpeg', '3847.jpeg', '3848.jpeg', '3849.jpeg', '3850.jpeg', '3851.jpeg', '3852.jpeg', '3853.jpeg', '3854.jpeg', '3855.jpeg', '3856.jpeg', '3857.jpeg', '3858.jpeg', '3859.jpeg', '3860.jpeg', '3861.jpeg', '3862.jpeg', '3863.jpeg', '3864.jpeg', '3865.jpeg', '3866.jpeg', '3867.jpeg', '3868.jpeg', '3869.jpeg', '3870.jpeg', '3871.jpeg', '3872.jpeg', '3873.jpeg', '3874.jpeg', '3875.jpeg', '3876.jpeg', '3877.jpeg', '3878.jpeg', '3879.jpeg', '3880.jpeg', '3881.jpeg', '3882.jpeg', '3883.jpeg', '3884.jpeg', '3885.jpeg', '3886.jpeg', '3887.jpeg', '3888.jpeg', '3889.jpeg', '3890.jpeg', '3891.jpeg', '3892.jpeg', '3893.jpeg', '3894.jpeg', '3895.jpeg', '3896.jpeg', '3897.jpeg', '3982.jpeg', '3983.jpeg', '3984.jpeg', '3985.jpeg', '3992.jpeg', '3993.jpeg', '3994.jpeg', '3995.jpeg', '3996.jpeg', '3997.jpeg', '3998.jpeg', '3999.jpeg', '4000.jpeg', '4001.jpeg', '4002.jpeg', '4006.jpeg', '4017.jpeg', '4018.jpeg', '4019.jpeg', '4020.jpeg', '4021.jpeg', '4022.jpeg', '4023.jpeg', '4029.jpeg', '4030.jpeg', '4031.jpeg', '4040.jpeg', '4047.jpeg', '4080.jpeg', '4634.jpeg', '4635.jpeg', '4636.jpeg', '4637.jpeg', '4638.jpeg', '4639.jpeg', '4640.jpeg', '4671.jpeg', '4711.jpeg', '4807.jpeg', '4834.jpeg', '4835.jpeg', '4836.jpeg', '4837.jpeg', '4846.jpeg', '4979.jpeg', '5362.jpeg', '5363.jpeg', '5364.jpeg', '5365.jpeg', '5366.jpeg', '5367.jpeg', '5368.jpeg', '5369.jpeg', '5370.jpeg', '5371.jpeg', '5372.jpeg', '5373.jpeg', '5374.jpeg', '5375.jpeg', '5376.jpeg', '5377.jpeg', '5378.jpeg', '5379.jpeg', '5399.jpeg', '5400.jpeg', '5401.jpeg', '5402.jpeg', '5403.jpeg', '5404.jpeg', '5405.jpeg', '5406.jpeg', '5407.jpeg']\n",
      "['1659.jpg', '1660.jpg', '1673.jpg', '1674.jpg', '1678.jpg', '1914.jpg', '2208.jpg', '2900.jpg', '2901.jpg', '2902.jpg', '2903.jpg', '2904.jpg', '2905.jpg', '2906.jpg', '2907.jpg', '2908.jpg', '2909.jpg', '2910.jpg', '2911.jpg', '2912.jpg', '2913.jpg', '2914.jpg', '2915.jpg', '2916.jpg', '2917.jpg', '2918.jpg', '2919.jpg', '2920.jpg', '2921.jpg', '2922.jpg', '2923.jpg', '3273.jpg', '3274.jpg', '3275.jpg', '3281.jpg', '3298.jpg', '3669.jpg', '3670.jpg', '3671.jpg', '3672.jpg', '3673.jpg', '3674.jpg', '3675.jpg', '3679.jpg', '3680.jpg', '3681.jpg', '3682.jpg', '3683.jpg', '3684.jpg', '3685.jpg', '3686.jpg', '3687.jpg', '3688.jpg', '3689.jpg', '3692.jpg', '3693.jpg', '3694.jpg', '3695.jpg', '3696.jpg', '3697.jpg', '3698.jpg', '3699.jpg', '3700.jpg', '3701.jpg', '3702.jpg', '3703.jpg', '3704.jpg', '3705.jpg', '3706.jpg', '3707.jpg', '3708.jpg', '3709.jpg', '3710.jpg', '3711.jpg', '3712.jpg', '3713.jpg', '3714.jpg', '3715.jpg', '3716.jpg', '3717.jpg', '3718.jpg', '3719.jpg', '3746.jpg', '3763.jpg', '3831.jpg', '3832.jpg', '3833.jpg', '3834.jpg', '3835.jpg', '3836.jpg', '3837.jpg', '3838.jpg', '3839.jpg', '3840.jpg', '3841.jpg', '3842.jpg', '3843.jpg', '3844.jpg', '3845.jpg', '3846.jpg', '3847.jpg', '3848.jpg', '3849.jpg', '3850.jpg', '3851.jpg', '3852.jpg', '3853.jpg', '3854.jpg', '3855.jpg', '3856.jpg', '3857.jpg', '3858.jpg', '3859.jpg', '3860.jpg', '3861.jpg', '3862.jpg', '3863.jpg', '3864.jpg', '3865.jpg', '3866.jpg', '3867.jpg', '3868.jpg', '3869.jpg', '3870.jpg', '3871.jpg', '3872.jpg', '3873.jpg', '3874.jpg', '3875.jpg', '3876.jpg', '3877.jpg', '3878.jpg', '3879.jpg', '3880.jpg', '3881.jpg', '3882.jpg', '3883.jpg', '3884.jpg', '3885.jpg', '3886.jpg', '3887.jpg', '3888.jpg', '3889.jpg', '3890.jpg', '3891.jpg', '3892.jpg', '3893.jpg', '3894.jpg', '3895.jpg', '3896.jpg', '3897.jpg', '3982.jpg', '3983.jpg', '3984.jpg', '3985.jpg', '3992.jpg', '3993.jpg', '3994.jpg', '3995.jpg', '3996.jpg', '3997.jpg', '3998.jpg', '3999.jpg', '4000.jpg', '4001.jpg', '4002.jpg', '4006.jpg', '4017.jpg', '4018.jpg', '4019.jpg', '4020.jpg', '4021.jpg', '4022.jpg', '4023.jpg', '4029.jpg', '4030.jpg', '4031.jpg', '4040.jpg', '4047.jpg', '4080.jpg', '4634.jpg', '4635.jpg', '4636.jpg', '4637.jpg', '4638.jpg', '4639.jpg', '4640.jpg', '4671.jpg', '4711.jpg', '4807.jpg', '4834.jpg', '4835.jpg', '4836.jpg', '4837.jpg', '4846.jpg', '4979.jpg', '5362.jpg', '5363.jpg', '5364.jpg', '5365.jpg', '5366.jpg', '5367.jpg', '5368.jpg', '5369.jpg', '5370.jpg', '5371.jpg', '5372.jpg', '5373.jpg', '5374.jpg', '5375.jpg', '5376.jpg', '5377.jpg', '5378.jpg', '5379.jpg', '5399.jpg', '5400.jpg', '5401.jpg', '5402.jpg', '5403.jpg', '5404.jpg', '5405.jpg', '5406.jpg', '5407.jpg']\n",
      "['1659.txt', '1660.txt', '1673.txt', '1674.txt', '1678.txt', '1914.txt', '2208.txt', '2900.txt', '2901.txt', '2902.txt', '2903.txt', '2904.txt', '2905.txt', '2906.txt', '2907.txt', '2908.txt', '2909.txt', '2910.txt', '2911.txt', '2912.txt', '2913.txt', '2914.txt', '2915.txt', '2916.txt', '2917.txt', '2918.txt', '2919.txt', '2920.txt', '2921.txt', '2922.txt', '2923.txt', '3273.txt', '3274.txt', '3275.txt', '3281.txt', '3298.txt', '3669.txt', '3670.txt', '3671.txt', '3672.txt', '3673.txt', '3674.txt', '3675.txt', '3679.txt', '3680.txt', '3681.txt', '3682.txt', '3683.txt', '3684.txt', '3685.txt', '3686.txt', '3687.txt', '3688.txt', '3689.txt', '3692.txt', '3693.txt', '3694.txt', '3695.txt', '3696.txt', '3697.txt', '3698.txt', '3699.txt', '3700.txt', '3701.txt', '3702.txt', '3703.txt', '3704.txt', '3705.txt', '3706.txt', '3707.txt', '3708.txt', '3709.txt', '3710.txt', '3711.txt', '3712.txt', '3713.txt', '3714.txt', '3715.txt', '3716.txt', '3717.txt', '3718.txt', '3719.txt', '3746.txt', '3763.txt', '3831.txt', '3832.txt', '3833.txt', '3834.txt', '3835.txt', '3836.txt', '3837.txt', '3838.txt', '3839.txt', '3840.txt', '3841.txt', '3842.txt', '3843.txt', '3844.txt', '3845.txt', '3846.txt', '3847.txt', '3848.txt', '3849.txt', '3850.txt', '3851.txt', '3852.txt', '3853.txt', '3854.txt', '3855.txt', '3856.txt', '3857.txt', '3858.txt', '3859.txt', '3860.txt', '3861.txt', '3862.txt', '3863.txt', '3864.txt', '3865.txt', '3866.txt', '3867.txt', '3868.txt', '3869.txt', '3870.txt', '3871.txt', '3872.txt', '3873.txt', '3874.txt', '3875.txt', '3876.txt', '3877.txt', '3878.txt', '3879.txt', '3880.txt', '3881.txt', '3882.txt', '3883.txt', '3884.txt', '3885.txt', '3886.txt', '3887.txt', '3888.txt', '3889.txt', '3890.txt', '3891.txt', '3892.txt', '3893.txt', '3894.txt', '3895.txt', '3896.txt', '3897.txt', '3982.txt', '3983.txt', '3984.txt', '3985.txt', '3992.txt', '3993.txt', '3994.txt', '3995.txt', '3996.txt', '3997.txt', '3998.txt', '3999.txt', '4000.txt', '4001.txt', '4002.txt', '4006.txt', '4017.txt', '4018.txt', '4019.txt', '4020.txt', '4021.txt', '4022.txt', '4023.txt', '4029.txt', '4030.txt', '4031.txt', '4040.txt', '4047.txt', '4080.txt', '4634.txt', '4635.txt', '4636.txt', '4637.txt', '4638.txt', '4639.txt', '4640.txt', '4671.txt', '4711.txt', '4807.txt', '4834.txt', '4835.txt', '4836.txt', '4837.txt', '4846.txt', '4979.txt', '5362.txt', '5363.txt', '5364.txt', '5365.txt', '5366.txt', '5367.txt', '5368.txt', '5369.txt', '5370.txt', '5371.txt', '5372.txt', '5373.txt', '5374.txt', '5375.txt', '5376.txt', '5377.txt', '5378.txt', '5379.txt', '5399.txt', '5400.txt', '5401.txt', '5402.txt', '5403.txt', '5404.txt', '5405.txt', '5406.txt', '5407.txt']\n"
     ]
    }
   ],
   "source": [
    "train_lwir = [x+\".jpeg\" for x in train_to_remove]\n",
    "train_visible = [x+\".jpg\" for x in train_to_remove]\n",
    "train_labels = [x+\".txt\" for x in train_to_remove]\n"
   ]
  },
  {
   "cell_type": "code",
   "execution_count": 31,
   "metadata": {},
   "outputs": [],
   "source": [
    "import shutil\n",
    "lwir_dir = \"D:/FLIR/train/thermal_8_bit_adjusted\"\n",
    "visible_dir = \"D:/FLIR/train/RGB_adjusted\"\n",
    "labels_dir = \"D:/FLIR/train/yolo_labels\"\n",
    "remove_dir = \"D:/FLIR/train/train_removed\"\n",
    "\n",
    "for f in train_lwir: \n",
    "    old_path = os.path.join(lwir_dir, f)\n",
    "    if (os.path.isfile(old_path)):\n",
    "        new_path = os.path.join(remove_dir, f)\n",
    "        shutil.move(old_path, new_path)\n",
    "\n",
    "for f in train_visible: \n",
    "    old_path = os.path.join(visible_dir, f)\n",
    "    if (os.path.isfile(old_path)):\n",
    "        new_path = os.path.join(remove_dir, f)\n",
    "        shutil.move(old_path, new_path)\n",
    "\n",
    "for f in train_labels: \n",
    "    old_path = os.path.join(labels_dir, f)\n",
    "    if (os.path.isfile(old_path)):\n",
    "        new_path = os.path.join(remove_dir, f)\n",
    "        shutil.move(old_path, new_path)\n"
   ]
  },
  {
   "cell_type": "code",
   "execution_count": 38,
   "metadata": {},
   "outputs": [
    {
     "name": "stdout",
     "output_type": "stream",
     "text": [
      "['9247', '9359', '9360', '9361', '9416', '9417', '9428', '9431', '9432', '9436', '9438', '9439', '9446', '9447', '9448', '9449', '9450', '9451', '9452', '9453', '9454', '9455', '9456', '9457', '9458', '9459', '9460', '9461', '9462', '9499', '9507', '9508', '9509', '9516']\n",
      "34\n"
     ]
    }
   ],
   "source": [
    "val_to_remove = [\n",
    "    9360,\n",
    "    9361,\n",
    "    9359,\n",
    "    9247,\n",
    "    9416,\n",
    "    9417,\n",
    "    9428,\n",
    "    9431,\n",
    "    9432,\n",
    "    9436,\n",
    "    9438,\n",
    "    9439,\n",
    "    9456,\n",
    "    9457,\n",
    "    9458,\n",
    "    9459,\n",
    "    9460,\n",
    "    9461,\n",
    "    9462,\n",
    "    9516,\n",
    "    9446,\n",
    "    9447,\n",
    "    9448,\n",
    "    9449,\n",
    "    9450,\n",
    "    9451,\n",
    "    9452,\n",
    "    9453,\n",
    "    9454,\n",
    "    9455,\n",
    "    9499,\n",
    "    9507,\n",
    "    9508,\n",
    "    9509\n",
    "    ]\n",
    "\n",
    "val_to_remove.sort()\n",
    "\n",
    "val_to_remove = [str(x) for x in val_to_remove]\n",
    "print (val_to_remove)\n",
    "print (len(val_to_remove))"
   ]
  },
  {
   "cell_type": "code",
   "execution_count": 39,
   "metadata": {},
   "outputs": [
    {
     "name": "stdout",
     "output_type": "stream",
     "text": [
      "['9247.jpeg', '9359.jpeg', '9360.jpeg', '9361.jpeg', '9416.jpeg', '9417.jpeg', '9428.jpeg', '9431.jpeg', '9432.jpeg', '9436.jpeg', '9438.jpeg', '9439.jpeg', '9446.jpeg', '9447.jpeg', '9448.jpeg', '9449.jpeg', '9450.jpeg', '9451.jpeg', '9452.jpeg', '9453.jpeg', '9454.jpeg', '9455.jpeg', '9456.jpeg', '9457.jpeg', '9458.jpeg', '9459.jpeg', '9460.jpeg', '9461.jpeg', '9462.jpeg', '9499.jpeg', '9507.jpeg', '9508.jpeg', '9509.jpeg', '9516.jpeg']\n",
      "['9247.jpg', '9359.jpg', '9360.jpg', '9361.jpg', '9416.jpg', '9417.jpg', '9428.jpg', '9431.jpg', '9432.jpg', '9436.jpg', '9438.jpg', '9439.jpg', '9446.jpg', '9447.jpg', '9448.jpg', '9449.jpg', '9450.jpg', '9451.jpg', '9452.jpg', '9453.jpg', '9454.jpg', '9455.jpg', '9456.jpg', '9457.jpg', '9458.jpg', '9459.jpg', '9460.jpg', '9461.jpg', '9462.jpg', '9499.jpg', '9507.jpg', '9508.jpg', '9509.jpg', '9516.jpg']\n",
      "['9247.txt', '9359.txt', '9360.txt', '9361.txt', '9416.txt', '9417.txt', '9428.txt', '9431.txt', '9432.txt', '9436.txt', '9438.txt', '9439.txt', '9446.txt', '9447.txt', '9448.txt', '9449.txt', '9450.txt', '9451.txt', '9452.txt', '9453.txt', '9454.txt', '9455.txt', '9456.txt', '9457.txt', '9458.txt', '9459.txt', '9460.txt', '9461.txt', '9462.txt', '9499.txt', '9507.txt', '9508.txt', '9509.txt', '9516.txt']\n",
      "34\n",
      "34\n",
      "34\n"
     ]
    }
   ],
   "source": [
    "val_lwir = [x+\".jpeg\" for x in val_to_remove]\n",
    "val_visible = [x+\".jpg\" for x in val_to_remove]\n",
    "val_labels = [x+\".txt\" for x in val_to_remove]\n",
    "\n",
    "print(val_lwir)\n",
    "print(val_visible)\n",
    "print(val_labels)\n",
    "\n",
    "print(len(val_lwir))\n",
    "print(len(val_visible))\n",
    "print(len(val_labels))"
   ]
  },
  {
   "cell_type": "code",
   "execution_count": 40,
   "metadata": {},
   "outputs": [],
   "source": [
    "import shutil\n",
    "lwir_dir = \"D:/FLIR/val/thermal_8_bit_adjusted\"\n",
    "visible_dir = \"D:/FLIR/val/RGB_adjusted\"\n",
    "labels_dir = \"D:/FLIR/val/yolo_labels\"\n",
    "remove_dir = \"D:/FLIR/val/val_removed\"\n",
    "\n",
    "for f in val_lwir: \n",
    "    old_path = os.path.join(lwir_dir, f)\n",
    "    if (os.path.isfile(old_path)):\n",
    "        new_path = os.path.join(remove_dir, f)\n",
    "        shutil.move(old_path, new_path)\n",
    "\n",
    "for f in val_visible: \n",
    "    old_path = os.path.join(visible_dir, f)\n",
    "    if (os.path.isfile(old_path)):\n",
    "        new_path = os.path.join(remove_dir, f)\n",
    "        shutil.move(old_path, new_path)\n",
    "\n",
    "for f in val_labels: \n",
    "    old_path = os.path.join(labels_dir, f)\n",
    "    if (os.path.isfile(old_path)):\n",
    "        new_path = os.path.join(remove_dir, f)\n",
    "        shutil.move(old_path, new_path)"
   ]
  },
  {
   "cell_type": "code",
   "execution_count": 22,
   "metadata": {},
   "outputs": [
    {
     "data": {
      "text/plain": [
       "[2900,\n",
       " 2901,\n",
       " 2902,\n",
       " 2903,\n",
       " 2904,\n",
       " 2905,\n",
       " 2906,\n",
       " 2907,\n",
       " 2908,\n",
       " 2909,\n",
       " 2910,\n",
       " 2911,\n",
       " 2912,\n",
       " 2913,\n",
       " 2914,\n",
       " 2915,\n",
       " 2916,\n",
       " 2917,\n",
       " 2918,\n",
       " 2919,\n",
       " 2920,\n",
       " 2921,\n",
       " 2922,\n",
       " 2923]"
      ]
     },
     "execution_count": 22,
     "metadata": {},
     "output_type": "execute_result"
    }
   ],
   "source": [
    "list((range(2900,2924)))"
   ]
  },
  {
   "cell_type": "code",
   "execution_count": 17,
   "metadata": {},
   "outputs": [
    {
     "name": "stdout",
     "output_type": "stream",
     "text": [
      "['0', '2', '3']\n"
     ]
    }
   ],
   "source": [
    "test = [0, 2, 3]\n",
    "test = [str(x) for x in test]\n",
    "print (test)\n"
   ]
  },
  {
   "cell_type": "markdown",
   "metadata": {},
   "source": [
    "## Generate Text files for dataset "
   ]
  },
  {
   "cell_type": "markdown",
   "metadata": {},
   "source": [
    "### Generate Train Text files \n"
   ]
  },
  {
   "cell_type": "code",
   "execution_count": 51,
   "metadata": {},
   "outputs": [
    {
     "name": "stdout",
     "output_type": "stream",
     "text": [
      "4641\n"
     ]
    }
   ],
   "source": [
    "input_dir = \"D:/FLIR/train/RGB_adjusted\"\n",
    "output_dir = \"D:/FLIR/data\"\n",
    "text_file = \"train.txt\"\n",
    "\n",
    "output_file = os.path.join(output_dir, text_file)\n",
    "counter = 0\n",
    "with open(output_file, 'a+') as w: \n",
    "    for f in os.listdir(input_dir):\n",
    "        full_path = os.path.join(input_dir, f) + '\\n'\n",
    "        #to_write = [full_path, '\\n']\n",
    "        #str_to_write = \"\".join(to_write)\n",
    "        w.write(full_path)\n",
    "        counter+=1\n",
    "print (counter)"
   ]
  },
  {
   "cell_type": "markdown",
   "metadata": {},
   "source": [
    "### Generate Test Text files "
   ]
  },
  {
   "cell_type": "code",
   "execution_count": 47,
   "metadata": {},
   "outputs": [
    {
     "name": "stdout",
     "output_type": "stream",
     "text": [
      "1225\n"
     ]
    }
   ],
   "source": [
    "input_dir = \"D:/FLIR/val/RGB_adjusted\"\n",
    "output_dir = \"D:/FLIR/data\"\n",
    "text_file = \"val.txt\"\n",
    "\n",
    "output_file = os.path.join(output_dir, text_file)\n",
    "counter = 0\n",
    "with open(output_file, 'a+') as w: \n",
    "    for f in os.listdir(input_dir):\n",
    "        full_path = os.path.join(input_dir, f).replace(\"\\\\\",\"/\")\n",
    "        to_write = [full_path, '\\n']\n",
    "        str_to_write = \"\".join(to_write)\n",
    "        w.write(str_to_write)\n",
    "        counter+=1\n",
    "print (counter)"
   ]
  }
 ],
 "metadata": {
  "kernelspec": {
   "display_name": "Python 3",
   "language": "python",
   "name": "python3"
  },
  "language_info": {
   "codemirror_mode": {
    "name": "ipython",
    "version": 3
   },
   "file_extension": ".py",
   "mimetype": "text/x-python",
   "name": "python",
   "nbconvert_exporter": "python",
   "pygments_lexer": "ipython3",
   "version": "3.7.6"
  }
 },
 "nbformat": 4,
 "nbformat_minor": 4
}
