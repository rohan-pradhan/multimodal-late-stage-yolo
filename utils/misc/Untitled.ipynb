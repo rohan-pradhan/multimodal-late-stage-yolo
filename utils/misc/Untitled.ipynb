{
 "cells": [
  {
   "cell_type": "code",
   "execution_count": 1,
   "metadata": {},
   "outputs": [],
   "source": [
    "import os "
   ]
  },
  {
   "cell_type": "code",
   "execution_count": 3,
   "metadata": {},
   "outputs": [
    {
     "name": "stdout",
     "output_type": "stream",
     "text": [
      "23010\n",
      "0.5097474523704032\n"
     ]
    }
   ],
   "source": [
    "input_dir = \"D:/KAIST_Dataset_FOG/test/labels\"\n",
    "\n",
    "counter = 0\n",
    "all_files = 0\n",
    "for f in os.listdir(input_dir):\n",
    "    all_files+=1\n",
    "    full = os.path.join(input_dir, f)\n",
    "    b = os.path.getsize(full)\n",
    "    if b>0: \n",
    "        counter+=1\n",
    "print (counter)\n",
    "print (counter/all_files)"
   ]
  }
 ],
 "metadata": {
  "kernelspec": {
   "display_name": "Python 3",
   "language": "python",
   "name": "python3"
  },
  "language_info": {
   "codemirror_mode": {
    "name": "ipython",
    "version": 3
   },
   "file_extension": ".py",
   "mimetype": "text/x-python",
   "name": "python",
   "nbconvert_exporter": "python",
   "pygments_lexer": "ipython3",
   "version": "3.7.6"
  }
 },
 "nbformat": 4,
 "nbformat_minor": 4
}
